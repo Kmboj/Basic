{
 "cells": [
  {
   "cell_type": "code",
   "execution_count": 1,
   "id": "e5cac92c-aa86-4ee2-bfa0-f1860b84f644",
   "metadata": {},
   "outputs": [
    {
     "data": {
      "text/plain": [
       "10"
      ]
     },
     "execution_count": 1,
     "metadata": {},
     "output_type": "execute_result"
    }
   ],
   "source": [
    "5+5"
   ]
  },
  {
   "cell_type": "code",
   "execution_count": 2,
   "id": "9b9151b2-a9e8-4b16-a626-5010002224a2",
   "metadata": {},
   "outputs": [],
   "source": [
    "a=10"
   ]
  },
  {
   "cell_type": "code",
   "execution_count": 3,
   "id": "826c6875-6ef0-4d50-90cd-f1593897bdb4",
   "metadata": {},
   "outputs": [
    {
     "data": {
      "text/plain": [
       "15"
      ]
     },
     "execution_count": 3,
     "metadata": {},
     "output_type": "execute_result"
    }
   ],
   "source": [
    "a+5"
   ]
  },
  {
   "cell_type": "code",
   "execution_count": 4,
   "id": "178e48ec-ed7c-4352-8691-68c716c71f8d",
   "metadata": {},
   "outputs": [],
   "source": [
    "d=\"vanshika\""
   ]
  },
  {
   "cell_type": "code",
   "execution_count": 5,
   "id": "35e8dbe9-a9b5-41f6-accc-9f6b1806cffa",
   "metadata": {},
   "outputs": [
    {
     "data": {
      "text/plain": [
       "str"
      ]
     },
     "execution_count": 5,
     "metadata": {},
     "output_type": "execute_result"
    }
   ],
   "source": [
    "type(d)"
   ]
  },
  {
   "cell_type": "code",
   "execution_count": 6,
   "id": "bb32a5e9-ba10-4dfe-9e54-ab5e297f7529",
   "metadata": {},
   "outputs": [
    {
     "ename": "NameError",
     "evalue": "name 'true' is not defined",
     "output_type": "error",
     "traceback": [
      "\u001b[0;31m---------------------------------------------------------------------------\u001b[0m",
      "\u001b[0;31mNameError\u001b[0m                                 Traceback (most recent call last)",
      "Cell \u001b[0;32mIn[6], line 1\u001b[0m\n\u001b[0;32m----> 1\u001b[0m b\u001b[38;5;241m=\u001b[39m\u001b[43mtrue\u001b[49m\n",
      "\u001b[0;31mNameError\u001b[0m: name 'true' is not defined"
     ]
    }
   ],
   "source": [
    "b=true"
   ]
  },
  {
   "cell_type": "code",
   "execution_count": 7,
   "id": "d045fc4f-c502-490d-b534-e1e3702271fb",
   "metadata": {},
   "outputs": [],
   "source": [
    "m = True"
   ]
  },
  {
   "cell_type": "code",
   "execution_count": 8,
   "id": "ccc7d676-9b09-4980-88b6-c63cd5d94efc",
   "metadata": {},
   "outputs": [
    {
     "data": {
      "text/plain": [
       "bool"
      ]
     },
     "execution_count": 8,
     "metadata": {},
     "output_type": "execute_result"
    }
   ],
   "source": [
    "type(m)"
   ]
  },
  {
   "cell_type": "code",
   "execution_count": 9,
   "id": "761ba14d-0ee1-46c1-b1e0-52d1c1cfa66d",
   "metadata": {},
   "outputs": [
    {
     "data": {
      "text/plain": [
       "1"
      ]
     },
     "execution_count": 9,
     "metadata": {},
     "output_type": "execute_result"
    }
   ],
   "source": [
    "True * True"
   ]
  },
  {
   "cell_type": "code",
   "execution_count": 10,
   "id": "4817d743-bf3a-4ee6-984a-8071fc08bb8c",
   "metadata": {},
   "outputs": [
    {
     "data": {
      "text/plain": [
       "0"
      ]
     },
     "execution_count": 10,
     "metadata": {},
     "output_type": "execute_result"
    }
   ],
   "source": [
    "True * False"
   ]
  },
  {
   "cell_type": "code",
   "execution_count": 11,
   "id": "de8698bc-4198-4c64-8e50-0732419da23c",
   "metadata": {},
   "outputs": [],
   "source": [
    "v = 5+ 8j"
   ]
  },
  {
   "cell_type": "code",
   "execution_count": 12,
   "id": "8c18362f-f6ff-401b-b19b-76d9aeda10f8",
   "metadata": {},
   "outputs": [
    {
     "data": {
      "text/plain": [
       "complex"
      ]
     },
     "execution_count": 12,
     "metadata": {},
     "output_type": "execute_result"
    }
   ],
   "source": [
    "type(v)"
   ]
  },
  {
   "cell_type": "code",
   "execution_count": 13,
   "id": "be8b7960-37c4-4be7-9305-8d576a65d2e8",
   "metadata": {},
   "outputs": [
    {
     "data": {
      "text/plain": [
       "5.0"
      ]
     },
     "execution_count": 13,
     "metadata": {},
     "output_type": "execute_result"
    }
   ],
   "source": [
    "v.real"
   ]
  },
  {
   "cell_type": "code",
   "execution_count": 14,
   "id": "a638e2e0-30f6-497a-b9dd-9ce214cb37d5",
   "metadata": {},
   "outputs": [
    {
     "data": {
      "text/plain": [
       "8.0"
      ]
     },
     "execution_count": 14,
     "metadata": {},
     "output_type": "execute_result"
    }
   ],
   "source": [
    "v.imag"
   ]
  },
  {
   "cell_type": "code",
   "execution_count": 15,
   "id": "6dc123f1-3ce5-4e20-b43c-45abce523d82",
   "metadata": {},
   "outputs": [
    {
     "name": "stdout",
     "output_type": "stream",
     "text": [
      "my name is vanshika\n"
     ]
    }
   ],
   "source": [
    "print(\"my name is vanshika\")"
   ]
  },
  {
   "cell_type": "code",
   "execution_count": 16,
   "id": "c568bdd5-960f-40aa-88c7-9bb871b746b3",
   "metadata": {},
   "outputs": [
    {
     "name": "stdout",
     "output_type": "stream",
     "text": [
      "10\n"
     ]
    }
   ],
   "source": [
    "print(a)"
   ]
  },
  {
   "cell_type": "code",
   "execution_count": 17,
   "id": "64749e19-46b3-40e7-be2d-99ae1c48dfb2",
   "metadata": {},
   "outputs": [],
   "source": [
    "vanshu = v"
   ]
  },
  {
   "cell_type": "code",
   "execution_count": 18,
   "id": "0398e3c1-ccc1-4662-86ac-0270b444e1a9",
   "metadata": {},
   "outputs": [
    {
     "name": "stdout",
     "output_type": "stream",
     "text": [
      "(5+8j)\n"
     ]
    }
   ],
   "source": [
    "print(vanshu)"
   ]
  },
  {
   "cell_type": "code",
   "execution_count": 19,
   "id": "31b75dad-c1a6-4de1-9c3a-aa547eee81fc",
   "metadata": {},
   "outputs": [],
   "source": [
    "c = \"pwskills\""
   ]
  },
  {
   "cell_type": "code",
   "execution_count": 20,
   "id": "8ed217f2-34b8-4f16-aa53-15d9f435b6b4",
   "metadata": {},
   "outputs": [
    {
     "data": {
      "text/plain": [
       "str"
      ]
     },
     "execution_count": 20,
     "metadata": {},
     "output_type": "execute_result"
    }
   ],
   "source": [
    "type(c)"
   ]
  },
  {
   "cell_type": "code",
   "execution_count": 21,
   "id": "3bc5b8fa-3f2e-446b-98e2-e4333f2acc69",
   "metadata": {},
   "outputs": [
    {
     "data": {
      "text/plain": [
       "'p'"
      ]
     },
     "execution_count": 21,
     "metadata": {},
     "output_type": "execute_result"
    }
   ],
   "source": [
    "c[0]"
   ]
  },
  {
   "cell_type": "code",
   "execution_count": 22,
   "id": "9880a263-aa47-4669-a59f-84e945442efb",
   "metadata": {},
   "outputs": [
    {
     "data": {
      "text/plain": [
       "'k'"
      ]
     },
     "execution_count": 22,
     "metadata": {},
     "output_type": "execute_result"
    }
   ],
   "source": [
    "c[3]"
   ]
  },
  {
   "cell_type": "code",
   "execution_count": 23,
   "id": "e1d398c5-04de-4ed0-ba6c-c9b293d7b1a0",
   "metadata": {},
   "outputs": [
    {
     "data": {
      "text/plain": [
       "'i'"
      ]
     },
     "execution_count": 23,
     "metadata": {},
     "output_type": "execute_result"
    }
   ],
   "source": [
    "c[-4]"
   ]
  },
  {
   "cell_type": "code",
   "execution_count": 24,
   "id": "6043e888-4da6-446f-8925-4bb9f212ec30",
   "metadata": {},
   "outputs": [
    {
     "data": {
      "text/plain": [
       "'pws'"
      ]
     },
     "execution_count": 24,
     "metadata": {},
     "output_type": "execute_result"
    }
   ],
   "source": [
    "c[0:3]"
   ]
  },
  {
   "cell_type": "code",
   "execution_count": 25,
   "id": "430a7532-5afa-4906-879e-c30217e6640d",
   "metadata": {},
   "outputs": [
    {
     "data": {
      "text/plain": [
       "'p'"
      ]
     },
     "execution_count": 25,
     "metadata": {},
     "output_type": "execute_result"
    }
   ],
   "source": [
    "c[0:2:4]"
   ]
  },
  {
   "cell_type": "code",
   "execution_count": 26,
   "id": "fb748839-a9d6-4ecc-b1b3-a0d12cba895c",
   "metadata": {},
   "outputs": [
    {
     "data": {
      "text/plain": [
       "'p'"
      ]
     },
     "execution_count": 26,
     "metadata": {},
     "output_type": "execute_result"
    }
   ],
   "source": [
    "c[0:1:2]"
   ]
  },
  {
   "cell_type": "code",
   "execution_count": 27,
   "id": "3ba0898c-0c41-4480-afe9-e7b58342c9b8",
   "metadata": {},
   "outputs": [
    {
     "data": {
      "text/plain": [
       "'w'"
      ]
     },
     "execution_count": 27,
     "metadata": {},
     "output_type": "execute_result"
    }
   ],
   "source": [
    "c[1:3:5]"
   ]
  },
  {
   "cell_type": "code",
   "execution_count": 28,
   "id": "950edbdf-59cf-4ff5-aad9-c3bfaa299fda",
   "metadata": {},
   "outputs": [
    {
     "data": {
      "text/plain": [
       "'pwskills'"
      ]
     },
     "execution_count": 28,
     "metadata": {},
     "output_type": "execute_result"
    }
   ],
   "source": [
    "c[0:8:1]"
   ]
  },
  {
   "cell_type": "code",
   "execution_count": 29,
   "id": "e1ca00fb-6a66-4f49-b95a-ce734c5d597d",
   "metadata": {},
   "outputs": [
    {
     "data": {
      "text/plain": [
       "'psil'"
      ]
     },
     "execution_count": 29,
     "metadata": {},
     "output_type": "execute_result"
    }
   ],
   "source": [
    "c[0:8:2]"
   ]
  },
  {
   "cell_type": "code",
   "execution_count": 30,
   "id": "4f237359-2ccf-41ff-aa81-7643ec9996c0",
   "metadata": {},
   "outputs": [
    {
     "data": {
      "text/plain": [
       "''"
      ]
     },
     "execution_count": 30,
     "metadata": {},
     "output_type": "execute_result"
    }
   ],
   "source": [
    "c[-1:-1:-1]"
   ]
  },
  {
   "cell_type": "code",
   "execution_count": 31,
   "id": "75814bcf-9a97-4c6e-8cfb-1493b0f14eb1",
   "metadata": {},
   "outputs": [
    {
     "data": {
      "text/plain": [
       "''"
      ]
     },
     "execution_count": 31,
     "metadata": {},
     "output_type": "execute_result"
    }
   ],
   "source": [
    "c[2:2]"
   ]
  },
  {
   "cell_type": "code",
   "execution_count": 32,
   "id": "48fa27d8-e30e-4986-9531-f7a8b5554bbb",
   "metadata": {},
   "outputs": [
    {
     "data": {
      "text/plain": [
       "'psil'"
      ]
     },
     "execution_count": 32,
     "metadata": {},
     "output_type": "execute_result"
    }
   ],
   "source": [
    "c[::2]"
   ]
  },
  {
   "cell_type": "code",
   "execution_count": 33,
   "id": "7919974c-5aaf-4e77-a5b8-617f1f13fae7",
   "metadata": {},
   "outputs": [
    {
     "data": {
      "text/plain": [
       "'skills'"
      ]
     },
     "execution_count": 33,
     "metadata": {},
     "output_type": "execute_result"
    }
   ],
   "source": [
    "c[2::]"
   ]
  },
  {
   "cell_type": "code",
   "execution_count": 34,
   "id": "83695890-d01d-4423-ae7a-64425b0e1035",
   "metadata": {},
   "outputs": [
    {
     "data": {
      "text/plain": [
       "'sllikswp'"
      ]
     },
     "execution_count": 34,
     "metadata": {},
     "output_type": "execute_result"
    }
   ],
   "source": [
    "c[::-1]"
   ]
  },
  {
   "cell_type": "code",
   "execution_count": 35,
   "id": "3b474515-ec8a-48a0-8251-ab6f2f6bfb4d",
   "metadata": {},
   "outputs": [
    {
     "data": {
      "text/plain": [
       "''"
      ]
     },
     "execution_count": 35,
     "metadata": {},
     "output_type": "execute_result"
    }
   ],
   "source": [
    "c[8:0]"
   ]
  },
  {
   "cell_type": "code",
   "execution_count": 36,
   "id": "9e667626-2423-4b91-85db-0c1231bd2e6f",
   "metadata": {},
   "outputs": [
    {
     "data": {
      "text/plain": [
       "'slliksw'"
      ]
     },
     "execution_count": 36,
     "metadata": {},
     "output_type": "execute_result"
    }
   ],
   "source": [
    "c[8:0:-1]"
   ]
  },
  {
   "cell_type": "code",
   "execution_count": 37,
   "id": "506dfd45-71b0-4fed-9a70-450848f893f6",
   "metadata": {},
   "outputs": [
    {
     "data": {
      "text/plain": [
       "'sllikswp'"
      ]
     },
     "execution_count": 37,
     "metadata": {},
     "output_type": "execute_result"
    }
   ],
   "source": [
    "\n",
    "c[8::-1]"
   ]
  },
  {
   "cell_type": "code",
   "execution_count": 38,
   "id": "7df7388c-6b0a-4de9-a44a-e763190564e8",
   "metadata": {},
   "outputs": [
    {
     "data": {
      "text/plain": [
       "''"
      ]
     },
     "execution_count": 38,
     "metadata": {},
     "output_type": "execute_result"
    }
   ],
   "source": [
    "c[:-90:]"
   ]
  },
  {
   "cell_type": "code",
   "execution_count": 39,
   "id": "0aa3cd5e-998a-469e-a784-642032f4dcc0",
   "metadata": {},
   "outputs": [
    {
     "data": {
      "text/plain": [
       "''"
      ]
     },
     "execution_count": 39,
     "metadata": {},
     "output_type": "execute_result"
    }
   ],
   "source": [
    "c[:-90:1]"
   ]
  },
  {
   "cell_type": "code",
   "execution_count": 40,
   "id": "9e8bb59d-7782-43d6-999b-f1deac5863fe",
   "metadata": {},
   "outputs": [
    {
     "ename": "IndexError",
     "evalue": "string index out of range",
     "output_type": "error",
     "traceback": [
      "\u001b[0;31m---------------------------------------------------------------------------\u001b[0m",
      "\u001b[0;31mIndexError\u001b[0m                                Traceback (most recent call last)",
      "Cell \u001b[0;32mIn[40], line 1\u001b[0m\n\u001b[0;32m----> 1\u001b[0m \u001b[43mc\u001b[49m\u001b[43m[\u001b[49m\u001b[38;5;241;43m200\u001b[39;49m\u001b[43m]\u001b[49m\n",
      "\u001b[0;31mIndexError\u001b[0m: string index out of range"
     ]
    }
   ],
   "source": [
    "c[200]"
   ]
  },
  {
   "cell_type": "code",
   "execution_count": 41,
   "id": "f4d2f472-6e8c-4bba-a5e7-b92aaa6629fe",
   "metadata": {},
   "outputs": [],
   "source": [
    "s1 = \"this is my string class\""
   ]
  },
  {
   "cell_type": "code",
   "execution_count": 42,
   "id": "78c492e4-ccf1-4422-b237-eab5bd896c33",
   "metadata": {},
   "outputs": [
    {
     "data": {
      "text/plain": [
       "23"
      ]
     },
     "execution_count": 42,
     "metadata": {},
     "output_type": "execute_result"
    }
   ],
   "source": [
    "len(s1)"
   ]
  },
  {
   "cell_type": "code",
   "execution_count": 43,
   "id": "e962f78d-2056-4644-b5fd-cb6addf0ff66",
   "metadata": {},
   "outputs": [
    {
     "data": {
      "text/plain": [
       "3"
      ]
     },
     "execution_count": 43,
     "metadata": {},
     "output_type": "execute_result"
    }
   ],
   "source": [
    "s1.find('s')"
   ]
  },
  {
   "cell_type": "code",
   "execution_count": 44,
   "id": "f6143ead-b19b-44dc-a72b-010fa6015d32",
   "metadata": {},
   "outputs": [
    {
     "data": {
      "text/plain": [
       "2"
      ]
     },
     "execution_count": 44,
     "metadata": {},
     "output_type": "execute_result"
    }
   ],
   "source": [
    "\n",
    "s1.find('i')"
   ]
  },
  {
   "cell_type": "code",
   "execution_count": 45,
   "id": "ddef2028-12b9-4bf0-957b-95646c5fc134",
   "metadata": {},
   "outputs": [
    {
     "data": {
      "text/plain": [
       "5"
      ]
     },
     "execution_count": 45,
     "metadata": {},
     "output_type": "execute_result"
    }
   ],
   "source": [
    "s1.count('s')"
   ]
  },
  {
   "cell_type": "code",
   "execution_count": 46,
   "id": "6f8458ea-919d-4eb7-9758-953d9071fd6d",
   "metadata": {},
   "outputs": [
    {
     "data": {
      "text/plain": [
       "'this is my string class'"
      ]
     },
     "execution_count": 46,
     "metadata": {},
     "output_type": "execute_result"
    }
   ],
   "source": [
    "s1"
   ]
  },
  {
   "cell_type": "code",
   "execution_count": 47,
   "id": "0fc895f4-6de6-4249-9b80-2344fdb867b4",
   "metadata": {},
   "outputs": [
    {
     "data": {
      "text/plain": [
       "1"
      ]
     },
     "execution_count": 47,
     "metadata": {},
     "output_type": "execute_result"
    }
   ],
   "source": [
    "s1.count(\"st\")"
   ]
  },
  {
   "cell_type": "code",
   "execution_count": 48,
   "id": "97f6c638-ba07-4a08-9d50-672b7fbd990d",
   "metadata": {},
   "outputs": [
    {
     "data": {
      "text/plain": [
       "0"
      ]
     },
     "execution_count": 48,
     "metadata": {},
     "output_type": "execute_result"
    }
   ],
   "source": [
    "s1.count(\"z\")"
   ]
  },
  {
   "cell_type": "code",
   "execution_count": 49,
   "id": "a404ac0d-98a1-4863-bde0-8990de5fa8d6",
   "metadata": {},
   "outputs": [
    {
     "data": {
      "text/plain": [
       "'THIS IS MY STRING CLASS'"
      ]
     },
     "execution_count": 49,
     "metadata": {},
     "output_type": "execute_result"
    }
   ],
   "source": [
    "s1.upper()"
   ]
  },
  {
   "cell_type": "code",
   "execution_count": 50,
   "id": "d78e3179-176b-4646-9b82-56ea95ef3356",
   "metadata": {},
   "outputs": [],
   "source": [
    "s2='THIS IS MY STRING CLASS'"
   ]
  },
  {
   "cell_type": "code",
   "execution_count": 51,
   "id": "64ee3d0d-4137-4013-b8a2-bdc4f2531f41",
   "metadata": {},
   "outputs": [
    {
     "data": {
      "text/plain": [
       "'this is my string class'"
      ]
     },
     "execution_count": 51,
     "metadata": {},
     "output_type": "execute_result"
    }
   ],
   "source": [
    "s2.lower()"
   ]
  },
  {
   "cell_type": "code",
   "execution_count": 52,
   "id": "789caec4-2970-48bd-b132-c0fdac4ed776",
   "metadata": {},
   "outputs": [
    {
     "data": {
      "text/plain": [
       "'This is my string class'"
      ]
     },
     "execution_count": 52,
     "metadata": {},
     "output_type": "execute_result"
    }
   ],
   "source": [
    "s1.capitalize()"
   ]
  },
  {
   "cell_type": "code",
   "execution_count": 53,
   "id": "27ba86fc-e736-4ddb-aa5a-598161c634d0",
   "metadata": {},
   "outputs": [
    {
     "data": {
      "text/plain": [
       "'pwskillss'"
      ]
     },
     "execution_count": 53,
     "metadata": {},
     "output_type": "execute_result"
    }
   ],
   "source": [
    "c +'s'"
   ]
  },
  {
   "cell_type": "code",
   "execution_count": 54,
   "id": "cd65273e-906f-407f-abab-3b2653758801",
   "metadata": {},
   "outputs": [
    {
     "data": {
      "text/plain": [
       "'pwskillspwskillspwskills'"
      ]
     },
     "execution_count": 54,
     "metadata": {},
     "output_type": "execute_result"
    }
   ],
   "source": [
    "c*3"
   ]
  },
  {
   "cell_type": "code",
   "execution_count": 55,
   "id": "0b6b50f7-d292-47e2-88d8-f262a2b64110",
   "metadata": {},
   "outputs": [
    {
     "data": {
      "text/plain": [
       "\"don't do copy\""
      ]
     },
     "execution_count": 55,
     "metadata": {},
     "output_type": "execute_result"
    }
   ],
   "source": [
    "\"don't do copy\""
   ]
  },
  {
   "cell_type": "code",
   "execution_count": 56,
   "id": "705a47a3-f244-4b85-9ad1-a78fd9762f56",
   "metadata": {},
   "outputs": [],
   "source": [
    "s3='''this is a code to find a charectred of sub string\n",
    " i have many thing to do\n",
    " i am try to practice codeon my laptop\n",
    " i have done two classes'''"
   ]
  },
  {
   "cell_type": "code",
   "execution_count": 57,
   "id": "10217350-483f-4794-90f3-5b27975300ef",
   "metadata": {},
   "outputs": [
    {
     "data": {
      "text/plain": [
       "'this is a code to find a charectred of sub string\\n i have many thing to do\\n i am try to practice codeon my laptop\\n i have done two classes'"
      ]
     },
     "execution_count": 57,
     "metadata": {},
     "output_type": "execute_result"
    }
   ],
   "source": [
    "s3"
   ]
  },
  {
   "cell_type": "code",
   "execution_count": 58,
   "id": "db284c31-9407-4cf3-8261-bdc96444ea50",
   "metadata": {},
   "outputs": [],
   "source": [
    "s='abcd'"
   ]
  },
  {
   "cell_type": "code",
   "execution_count": 59,
   "id": "f486b3f2-54f5-4d69-9547-77e5d1a2ff49",
   "metadata": {},
   "outputs": [
    {
     "data": {
      "text/plain": [
       "'ABCD'"
      ]
     },
     "execution_count": 59,
     "metadata": {},
     "output_type": "execute_result"
    }
   ],
   "source": [
    "s.upper()"
   ]
  },
  {
   "cell_type": "raw",
   "id": "0e48fb70-c354-4f61-9c2b-f7696292a914",
   "metadata": {},
   "source": [
    "print(s.upper())"
   ]
  },
  {
   "cell_type": "code",
   "execution_count": 60,
   "id": "38161e86-c062-456a-a6d7-9d00781675e1",
   "metadata": {},
   "outputs": [],
   "source": [
    "l =[1,234,45,'hello',True,5+4j,324,324]"
   ]
  },
  {
   "cell_type": "code",
   "execution_count": 61,
   "id": "3cbaaac3-fd3f-4b86-bcab-d6c5ecebd73d",
   "metadata": {},
   "outputs": [
    {
     "data": {
      "text/plain": [
       "list"
      ]
     },
     "execution_count": 61,
     "metadata": {},
     "output_type": "execute_result"
    }
   ],
   "source": [
    "type(l)"
   ]
  },
  {
   "cell_type": "code",
   "execution_count": 62,
   "id": "1f4132e8-ab6d-4f62-b4d6-e13f590409b4",
   "metadata": {},
   "outputs": [],
   "source": [
    "l ={1,234,45,'hello',True,5+4j,324,324}"
   ]
  },
  {
   "cell_type": "code",
   "execution_count": 63,
   "id": "6d74ac5a-cd82-475e-a2b2-0a2d4a5597a8",
   "metadata": {},
   "outputs": [
    {
     "data": {
      "text/plain": [
       "set"
      ]
     },
     "execution_count": 63,
     "metadata": {},
     "output_type": "execute_result"
    }
   ],
   "source": [
    "type(l)"
   ]
  },
  {
   "cell_type": "code",
   "execution_count": 64,
   "id": "22d611aa-12ab-40c3-bef9-eebabd95077f",
   "metadata": {},
   "outputs": [],
   "source": [
    "l =[1,234,45,'hello',True,5+4j,324.324]"
   ]
  },
  {
   "cell_type": "code",
   "execution_count": 65,
   "id": "d689c668-b864-4745-bfcf-3f355960778e",
   "metadata": {},
   "outputs": [
    {
     "data": {
      "text/plain": [
       "list"
      ]
     },
     "execution_count": 65,
     "metadata": {},
     "output_type": "execute_result"
    }
   ],
   "source": [
    "type(l)\n"
   ]
  },
  {
   "cell_type": "code",
   "execution_count": 66,
   "id": "f89c42e7-148f-4265-b7f1-19dbe184e14a",
   "metadata": {},
   "outputs": [
    {
     "data": {
      "text/plain": [
       "True"
      ]
     },
     "execution_count": 66,
     "metadata": {},
     "output_type": "execute_result"
    }
   ],
   "source": [
    "l[4]"
   ]
  },
  {
   "cell_type": "code",
   "execution_count": 67,
   "id": "1e93cbfc-029f-48c3-9ac4-b43b7ff7f224",
   "metadata": {},
   "outputs": [
    {
     "data": {
      "text/plain": [
       "[1, 234, 45]"
      ]
     },
     "execution_count": 67,
     "metadata": {},
     "output_type": "execute_result"
    }
   ],
   "source": [
    "l[0:3]"
   ]
  },
  {
   "cell_type": "code",
   "execution_count": 68,
   "id": "ba664298-76a1-449c-9ca4-aab6b2aade81",
   "metadata": {},
   "outputs": [
    {
     "data": {
      "text/plain": [
       "324.324"
      ]
     },
     "execution_count": 68,
     "metadata": {},
     "output_type": "execute_result"
    }
   ],
   "source": [
    "l[-1]"
   ]
  },
  {
   "cell_type": "code",
   "execution_count": 69,
   "id": "99a24f96-2065-4dbf-a15b-7f42fac63255",
   "metadata": {},
   "outputs": [
    {
     "data": {
      "text/plain": [
       "[324.324, (5+4j), True, 'hello', 45, 234, 1]"
      ]
     },
     "execution_count": 69,
     "metadata": {},
     "output_type": "execute_result"
    }
   ],
   "source": [
    "l[::-1]"
   ]
  },
  {
   "cell_type": "code",
   "execution_count": 70,
   "id": "6ab73612-cc7b-4004-8ae9-f21430208ed6",
   "metadata": {},
   "outputs": [
    {
     "data": {
      "text/plain": [
       "[1, 45, True, 324.324]"
      ]
     },
     "execution_count": 70,
     "metadata": {},
     "output_type": "execute_result"
    }
   ],
   "source": [
    "l[::2]"
   ]
  },
  {
   "cell_type": "code",
   "execution_count": 71,
   "id": "df9df912-b83a-4764-a086-41b980f75608",
   "metadata": {},
   "outputs": [
    {
     "data": {
      "text/plain": [
       "['a', 'b', 'c', 'd']"
      ]
     },
     "execution_count": 71,
     "metadata": {},
     "output_type": "execute_result"
    }
   ],
   "source": [
    "list(s)"
   ]
  },
  {
   "cell_type": "code",
   "execution_count": 72,
   "id": "51fc58d5-5af6-4e94-8b71-4c27e203a73b",
   "metadata": {},
   "outputs": [
    {
     "data": {
      "text/plain": [
       "['a', 'b', 'c', 'd']"
      ]
     },
     "execution_count": 72,
     "metadata": {},
     "output_type": "execute_result"
    }
   ],
   "source": [
    "list(s)"
   ]
  },
  {
   "cell_type": "code",
   "execution_count": 73,
   "id": "44d5398a-1a92-4e81-8ff4-f709da3e82b2",
   "metadata": {},
   "outputs": [],
   "source": [
    "s='password'"
   ]
  },
  {
   "cell_type": "code",
   "execution_count": 74,
   "id": "2d5a5dab-4fec-4bbd-a91c-f95e630c78bb",
   "metadata": {},
   "outputs": [
    {
     "data": {
      "text/plain": [
       "['p',\n",
       " 'a',\n",
       " 's',\n",
       " 's',\n",
       " 'w',\n",
       " 'o',\n",
       " 'r',\n",
       " 'd',\n",
       " 1,\n",
       " 234,\n",
       " 45,\n",
       " 'hello',\n",
       " True,\n",
       " (5+4j),\n",
       " 324.324]"
      ]
     },
     "execution_count": 74,
     "metadata": {},
     "output_type": "execute_result"
    }
   ],
   "source": [
    "list(s) + l\n",
    "\n"
   ]
  },
  {
   "cell_type": "code",
   "execution_count": 75,
   "id": "b784e3cb-a1ba-48b3-83c3-a8b1abd7817f",
   "metadata": {},
   "outputs": [
    {
     "data": {
      "text/plain": [
       "[1, 234, 45, 'hello', True, (5+4j), 324.324]"
      ]
     },
     "execution_count": 75,
     "metadata": {},
     "output_type": "execute_result"
    }
   ],
   "source": [
    "l"
   ]
  },
  {
   "cell_type": "code",
   "execution_count": 76,
   "id": "c762ed05-a843-4667-bc28-9aafd3a508ed",
   "metadata": {},
   "outputs": [
    {
     "data": {
      "text/plain": [
       "str"
      ]
     },
     "execution_count": 76,
     "metadata": {},
     "output_type": "execute_result"
    }
   ],
   "source": [
    "type(l[3])"
   ]
  },
  {
   "cell_type": "code",
   "execution_count": 77,
   "id": "dba92578-baee-47a0-93f8-6511f1757fd7",
   "metadata": {},
   "outputs": [
    {
     "data": {
      "text/plain": [
       "'he'"
      ]
     },
     "execution_count": 77,
     "metadata": {},
     "output_type": "execute_result"
    }
   ],
   "source": [
    "l[3][0:2]"
   ]
  },
  {
   "cell_type": "code",
   "execution_count": 78,
   "id": "05a3a0fb-33d5-43c0-b214-0aae30768525",
   "metadata": {},
   "outputs": [
    {
     "data": {
      "text/plain": [
       "True"
      ]
     },
     "execution_count": 78,
     "metadata": {},
     "output_type": "execute_result"
    }
   ],
   "source": [
    "l[4]"
   ]
  },
  {
   "cell_type": "code",
   "execution_count": 79,
   "id": "46d4f26e-ef8a-417b-b57e-d2aaa25fd2c1",
   "metadata": {},
   "outputs": [
    {
     "data": {
      "text/plain": [
       "'Tr'"
      ]
     },
     "execution_count": 79,
     "metadata": {},
     "output_type": "execute_result"
    }
   ],
   "source": [
    "str(l[4])[0:2]"
   ]
  },
  {
   "cell_type": "code",
   "execution_count": 80,
   "id": "2e31f977-2b37-4174-bfec-a64cef9ee267",
   "metadata": {},
   "outputs": [
    {
     "data": {
      "text/plain": [
       "[1, 234, 45, 'hello', True, (5+4j), 324.324]"
      ]
     },
     "execution_count": 80,
     "metadata": {},
     "output_type": "execute_result"
    }
   ],
   "source": [
    "l"
   ]
  },
  {
   "cell_type": "code",
   "execution_count": 81,
   "id": "21c972fc-388b-45f7-93da-d1ae7ee557b7",
   "metadata": {},
   "outputs": [],
   "source": [
    "ll=[3,4,5]"
   ]
  },
  {
   "cell_type": "code",
   "execution_count": 82,
   "id": "da0418f7-e1bb-4223-8448-7518c39ba872",
   "metadata": {},
   "outputs": [
    {
     "data": {
      "text/plain": [
       "[1, 234, 45, 'hello', True, (5+4j), 324.324, 3, 4, 5]"
      ]
     },
     "execution_count": 82,
     "metadata": {},
     "output_type": "execute_result"
    }
   ],
   "source": [
    "l+ll"
   ]
  },
  {
   "cell_type": "code",
   "execution_count": 83,
   "id": "8ea3db0c-2316-4283-96a1-fc5c57600d22",
   "metadata": {},
   "outputs": [
    {
     "data": {
      "text/plain": [
       "[3, 4, 5, 3, 4, 5, 3, 4, 5]"
      ]
     },
     "execution_count": 83,
     "metadata": {},
     "output_type": "execute_result"
    }
   ],
   "source": [
    "ll*3"
   ]
  },
  {
   "cell_type": "code",
   "execution_count": 84,
   "id": "eb388279-4aa6-4bf1-96ab-47333a551608",
   "metadata": {},
   "outputs": [
    {
     "data": {
      "text/plain": [
       "[1, 234, 45, 'hello', True, (5+4j), 324.324]"
      ]
     },
     "execution_count": 84,
     "metadata": {},
     "output_type": "execute_result"
    }
   ],
   "source": [
    "l"
   ]
  },
  {
   "cell_type": "code",
   "execution_count": 85,
   "id": "bdf01e63-9721-4f6a-985f-f183fb5d4e09",
   "metadata": {},
   "outputs": [
    {
     "data": {
      "text/plain": [
       "7"
      ]
     },
     "execution_count": 85,
     "metadata": {},
     "output_type": "execute_result"
    }
   ],
   "source": [
    "len(l)"
   ]
  },
  {
   "cell_type": "code",
   "execution_count": 86,
   "id": "fa7631bd-2db5-45ef-a1a9-9864cb8ef201",
   "metadata": {},
   "outputs": [],
   "source": [
    "l.append(5)"
   ]
  },
  {
   "cell_type": "code",
   "execution_count": 87,
   "id": "de7b4e9f-310f-4f1d-80cc-64c96da35338",
   "metadata": {},
   "outputs": [
    {
     "data": {
      "text/plain": [
       "[1, 234, 45, 'hello', True, (5+4j), 324.324, 5]"
      ]
     },
     "execution_count": 87,
     "metadata": {},
     "output_type": "execute_result"
    }
   ],
   "source": [
    "l"
   ]
  },
  {
   "cell_type": "code",
   "execution_count": 88,
   "id": "f0e2a2dd-593d-4987-890f-8396a51304ef",
   "metadata": {},
   "outputs": [],
   "source": [
    "l.append(s)"
   ]
  },
  {
   "cell_type": "code",
   "execution_count": 89,
   "id": "953a09e2-6abf-4621-a844-273bc0e60093",
   "metadata": {},
   "outputs": [
    {
     "data": {
      "text/plain": [
       "'password'"
      ]
     },
     "execution_count": 89,
     "metadata": {},
     "output_type": "execute_result"
    }
   ],
   "source": [
    "s"
   ]
  },
  {
   "cell_type": "code",
   "execution_count": 90,
   "id": "40d00586-a773-47f5-bafc-8a8300ae51fb",
   "metadata": {},
   "outputs": [
    {
     "data": {
      "text/plain": [
       "[1, 234, 45, 'hello', True, (5+4j), 324.324, 5, 'password']"
      ]
     },
     "execution_count": 90,
     "metadata": {},
     "output_type": "execute_result"
    }
   ],
   "source": [
    "l"
   ]
  },
  {
   "cell_type": "code",
   "execution_count": 91,
   "id": "d0b14fb8-351a-4954-8981-8ae2d75c968c",
   "metadata": {},
   "outputs": [],
   "source": [
    "l.append(ll)"
   ]
  },
  {
   "cell_type": "code",
   "execution_count": 92,
   "id": "f424a0cf-e1fa-4d2f-a3d1-c4c80bc1ded5",
   "metadata": {},
   "outputs": [
    {
     "data": {
      "text/plain": [
       "[1, 234, 45, 'hello', True, (5+4j), 324.324, 5, 'password', [3, 4, 5]]"
      ]
     },
     "execution_count": 92,
     "metadata": {},
     "output_type": "execute_result"
    }
   ],
   "source": [
    "l"
   ]
  },
  {
   "cell_type": "code",
   "execution_count": 93,
   "id": "96e4245e-4984-49eb-aa1b-5df82faaea2c",
   "metadata": {},
   "outputs": [
    {
     "data": {
      "text/plain": [
       "[3, 4, 5]"
      ]
     },
     "execution_count": 93,
     "metadata": {},
     "output_type": "execute_result"
    }
   ],
   "source": [
    "l[-1]"
   ]
  },
  {
   "cell_type": "code",
   "execution_count": 94,
   "id": "4819c3e7-d31f-4e2b-95b6-7ecfa42f236c",
   "metadata": {},
   "outputs": [
    {
     "data": {
      "text/plain": [
       "[1, 234, 45, 'hello', True, (5+4j), 324.324, 5, 'password', [3, 4, 5]]"
      ]
     },
     "execution_count": 94,
     "metadata": {},
     "output_type": "execute_result"
    }
   ],
   "source": [
    "l"
   ]
  },
  {
   "cell_type": "code",
   "execution_count": 95,
   "id": "c6c1b0ee-91e2-4a19-ba52-ce791a8e84e4",
   "metadata": {},
   "outputs": [
    {
     "data": {
      "text/plain": [
       "4"
      ]
     },
     "execution_count": 95,
     "metadata": {},
     "output_type": "execute_result"
    }
   ],
   "source": [
    "l[-1][1]"
   ]
  },
  {
   "cell_type": "code",
   "execution_count": 96,
   "id": "5f319dcb-615a-46ce-a840-c60a32a9ce8d",
   "metadata": {},
   "outputs": [],
   "source": [
    "l.extend(\"hello\")"
   ]
  },
  {
   "cell_type": "code",
   "execution_count": 97,
   "id": "c69a97b3-d191-461b-a62c-8ea23bb05675",
   "metadata": {},
   "outputs": [
    {
     "data": {
      "text/plain": [
       "[1,\n",
       " 234,\n",
       " 45,\n",
       " 'hello',\n",
       " True,\n",
       " (5+4j),\n",
       " 324.324,\n",
       " 5,\n",
       " 'password',\n",
       " [3, 4, 5],\n",
       " 'h',\n",
       " 'e',\n",
       " 'l',\n",
       " 'l',\n",
       " 'o']"
      ]
     },
     "execution_count": 97,
     "metadata": {},
     "output_type": "execute_result"
    }
   ],
   "source": [
    "l"
   ]
  },
  {
   "cell_type": "code",
   "execution_count": 98,
   "id": "88828c2f-d619-4783-a631-0ff5acaa3892",
   "metadata": {},
   "outputs": [],
   "source": [
    "l.extend([3,4,5])"
   ]
  },
  {
   "cell_type": "code",
   "execution_count": 99,
   "id": "70a4f825-220d-4d3a-b750-16ebedaab2be",
   "metadata": {},
   "outputs": [
    {
     "data": {
      "text/plain": [
       "[1,\n",
       " 234,\n",
       " 45,\n",
       " 'hello',\n",
       " True,\n",
       " (5+4j),\n",
       " 324.324,\n",
       " 5,\n",
       " 'password',\n",
       " [3, 4, 5],\n",
       " 'h',\n",
       " 'e',\n",
       " 'l',\n",
       " 'l',\n",
       " 'o',\n",
       " 3,\n",
       " 4,\n",
       " 5]"
      ]
     },
     "execution_count": 99,
     "metadata": {},
     "output_type": "execute_result"
    }
   ],
   "source": [
    "l"
   ]
  },
  {
   "cell_type": "code",
   "execution_count": 100,
   "id": "1a8c4bbf-2b69-4117-8c08-1fcb2948e03a",
   "metadata": {},
   "outputs": [
    {
     "data": {
      "text/plain": [
       "[3, 4, 5]"
      ]
     },
     "execution_count": 100,
     "metadata": {},
     "output_type": "execute_result"
    }
   ],
   "source": [
    "ll"
   ]
  },
  {
   "cell_type": "code",
   "execution_count": 101,
   "id": "565ba816-fb05-4489-b791-859a0093718b",
   "metadata": {},
   "outputs": [],
   "source": [
    "ll.insert(1,\"vanshika\")"
   ]
  },
  {
   "cell_type": "code",
   "execution_count": 102,
   "id": "71f6722e-c127-4fb2-b582-055c17655f6d",
   "metadata": {},
   "outputs": [
    {
     "data": {
      "text/plain": [
       "[3, 'vanshika', 4, 5]"
      ]
     },
     "execution_count": 102,
     "metadata": {},
     "output_type": "execute_result"
    }
   ],
   "source": [
    "ll"
   ]
  },
  {
   "cell_type": "code",
   "execution_count": 103,
   "id": "a7d82cb1-d115-4e5a-85b6-1d234910f8f2",
   "metadata": {},
   "outputs": [],
   "source": [
    "ll.insert(3,\"kamboj\")"
   ]
  },
  {
   "cell_type": "code",
   "execution_count": 104,
   "id": "bb551b21-fb55-4d6d-9145-9361f8681ae8",
   "metadata": {},
   "outputs": [
    {
     "data": {
      "text/plain": [
       "[3, 'vanshika', 4, 'kamboj', 5]"
      ]
     },
     "execution_count": 104,
     "metadata": {},
     "output_type": "execute_result"
    }
   ],
   "source": [
    "ll"
   ]
  },
  {
   "cell_type": "raw",
   "id": "dc5fc750-859d-440d-9e34-96657eacfa02",
   "metadata": {},
   "source": [
    "ll.insert(-1,45)"
   ]
  },
  {
   "cell_type": "code",
   "execution_count": 105,
   "id": "eb7af253-6741-4442-b032-f5cc10cc3e6d",
   "metadata": {},
   "outputs": [],
   "source": [
    "ll.insert(-1,45)"
   ]
  },
  {
   "cell_type": "code",
   "execution_count": 106,
   "id": "8ddd0301-70d3-4fa9-84e4-7c3c755c5a48",
   "metadata": {},
   "outputs": [
    {
     "data": {
      "text/plain": [
       "[3, 'vanshika', 4, 'kamboj', 45, 5]"
      ]
     },
     "execution_count": 106,
     "metadata": {},
     "output_type": "execute_result"
    }
   ],
   "source": [
    "ll\n"
   ]
  },
  {
   "cell_type": "code",
   "execution_count": 107,
   "id": "46387a83-82a6-429f-84a3-d6972581e784",
   "metadata": {},
   "outputs": [
    {
     "data": {
      "text/plain": [
       "5"
      ]
     },
     "execution_count": 107,
     "metadata": {},
     "output_type": "execute_result"
    }
   ],
   "source": [
    "ll.pop()"
   ]
  },
  {
   "cell_type": "code",
   "execution_count": 108,
   "id": "d081edf2-472b-4800-b264-5d3776691bdf",
   "metadata": {},
   "outputs": [
    {
     "data": {
      "text/plain": [
       "[3, 'vanshika', 4, 'kamboj', 45]"
      ]
     },
     "execution_count": 108,
     "metadata": {},
     "output_type": "execute_result"
    }
   ],
   "source": [
    "ll"
   ]
  },
  {
   "cell_type": "code",
   "execution_count": 109,
   "id": "bf670f4d-eba2-4fc0-bd4e-f16be9800dce",
   "metadata": {},
   "outputs": [
    {
     "data": {
      "text/plain": [
       "'kamboj'"
      ]
     },
     "execution_count": 109,
     "metadata": {},
     "output_type": "execute_result"
    }
   ],
   "source": [
    "ll.pop(3)"
   ]
  },
  {
   "cell_type": "code",
   "execution_count": 110,
   "id": "dd65dda0-0641-40f9-8a9b-e2891eccccf0",
   "metadata": {},
   "outputs": [
    {
     "data": {
      "text/plain": [
       "[3, 'vanshika', 4, 45]"
      ]
     },
     "execution_count": 110,
     "metadata": {},
     "output_type": "execute_result"
    }
   ],
   "source": [
    "ll"
   ]
  },
  {
   "cell_type": "code",
   "execution_count": 111,
   "id": "85db690b-8573-4949-b77c-44a5a16ecf7f",
   "metadata": {},
   "outputs": [],
   "source": [
    "ll.remove(3)"
   ]
  },
  {
   "cell_type": "code",
   "execution_count": 112,
   "id": "2db860f1-1494-4eea-b66c-2ccceddfb790",
   "metadata": {},
   "outputs": [
    {
     "data": {
      "text/plain": [
       "['vanshika', 4, 45]"
      ]
     },
     "execution_count": 112,
     "metadata": {},
     "output_type": "execute_result"
    }
   ],
   "source": [
    "ll\n"
   ]
  },
  {
   "cell_type": "code",
   "execution_count": 113,
   "id": "99eb2749-f820-4514-8309-4969c922f902",
   "metadata": {},
   "outputs": [
    {
     "ename": "TypeError",
     "evalue": "'<' not supported between instances of 'int' and 'str'",
     "output_type": "error",
     "traceback": [
      "\u001b[0;31m---------------------------------------------------------------------------\u001b[0m",
      "\u001b[0;31mTypeError\u001b[0m                                 Traceback (most recent call last)",
      "Cell \u001b[0;32mIn[113], line 1\u001b[0m\n\u001b[0;32m----> 1\u001b[0m \u001b[43mll\u001b[49m\u001b[38;5;241;43m.\u001b[39;49m\u001b[43msort\u001b[49m\u001b[43m(\u001b[49m\u001b[43m)\u001b[49m\n",
      "\u001b[0;31mTypeError\u001b[0m: '<' not supported between instances of 'int' and 'str'"
     ]
    }
   ],
   "source": [
    "ll.sort()"
   ]
  },
  {
   "cell_type": "code",
   "execution_count": 114,
   "id": "2d52eeef-1232-4c90-94f9-4d15fd482546",
   "metadata": {},
   "outputs": [],
   "source": [
    "l2=[30,4,50,6,80,7]"
   ]
  },
  {
   "cell_type": "raw",
   "id": "3a392ca6-c0b1-4ef1-9e3a-43113dc86e1b",
   "metadata": {},
   "source": [
    "l2.sort()"
   ]
  },
  {
   "cell_type": "code",
   "execution_count": 115,
   "id": "34cd1456-a28f-42c2-a50f-8d4e77bd1584",
   "metadata": {},
   "outputs": [],
   "source": [
    "l2.sort()"
   ]
  },
  {
   "cell_type": "code",
   "execution_count": 116,
   "id": "a349cc7d-1c42-4bca-99d5-5ee192d9c772",
   "metadata": {},
   "outputs": [
    {
     "data": {
      "text/plain": [
       "[4, 6, 7, 30, 50, 80]"
      ]
     },
     "execution_count": 116,
     "metadata": {},
     "output_type": "execute_result"
    }
   ],
   "source": [
    "l2"
   ]
  },
  {
   "cell_type": "code",
   "execution_count": 117,
   "id": "3ec0ce01-8b69-4f51-8b82-58351e4b3459",
   "metadata": {},
   "outputs": [],
   "source": [
    "l3=[23,\"abc\",23,34,\"aaa\"]"
   ]
  },
  {
   "cell_type": "code",
   "execution_count": 118,
   "id": "2679a7c3-53ac-4ee7-bf7d-ba266152cd8c",
   "metadata": {},
   "outputs": [
    {
     "ename": "TypeError",
     "evalue": "'<' not supported between instances of 'str' and 'int'",
     "output_type": "error",
     "traceback": [
      "\u001b[0;31m---------------------------------------------------------------------------\u001b[0m",
      "\u001b[0;31mTypeError\u001b[0m                                 Traceback (most recent call last)",
      "Cell \u001b[0;32mIn[118], line 1\u001b[0m\n\u001b[0;32m----> 1\u001b[0m \u001b[43ml3\u001b[49m\u001b[38;5;241;43m.\u001b[39;49m\u001b[43msort\u001b[49m\u001b[43m(\u001b[49m\u001b[43m)\u001b[49m\n",
      "\u001b[0;31mTypeError\u001b[0m: '<' not supported between instances of 'str' and 'int'"
     ]
    }
   ],
   "source": [
    "l3.sort()"
   ]
  },
  {
   "cell_type": "code",
   "execution_count": 119,
   "id": "944f8780-0a19-40bd-b6dc-ea0faf4760c8",
   "metadata": {},
   "outputs": [],
   "source": [
    "l4=[\"gg\",\"dd\",\"cc\",\"bb\",\"aa\"]"
   ]
  },
  {
   "cell_type": "code",
   "execution_count": 120,
   "id": "24abacdb-d833-4506-a780-ba6f6bd59a28",
   "metadata": {},
   "outputs": [],
   "source": [
    "l4.sort()"
   ]
  },
  {
   "cell_type": "code",
   "execution_count": 121,
   "id": "3af9d82e-1794-44a8-96c1-de88c6ef0f03",
   "metadata": {},
   "outputs": [
    {
     "data": {
      "text/plain": [
       "['aa', 'bb', 'cc', 'dd', 'gg']"
      ]
     },
     "execution_count": 121,
     "metadata": {},
     "output_type": "execute_result"
    }
   ],
   "source": [
    "l4"
   ]
  },
  {
   "cell_type": "code",
   "execution_count": 122,
   "id": "4257c23d-2139-4bef-aa84-69ae02e21532",
   "metadata": {},
   "outputs": [
    {
     "data": {
      "text/plain": [
       "3"
      ]
     },
     "execution_count": 122,
     "metadata": {},
     "output_type": "execute_result"
    }
   ],
   "source": [
    "l4.index(\"dd\")"
   ]
  },
  {
   "cell_type": "code",
   "execution_count": 123,
   "id": "ef8f8c10-a63c-4905-a5b7-ae94fee1a7ae",
   "metadata": {},
   "outputs": [
    {
     "data": {
      "text/plain": [
       "0"
      ]
     },
     "execution_count": 123,
     "metadata": {},
     "output_type": "execute_result"
    }
   ],
   "source": [
    "l4.count(\"ss\")"
   ]
  },
  {
   "cell_type": "code",
   "execution_count": 124,
   "id": "11d4bb59-56d5-401b-9046-6c637e77a3b6",
   "metadata": {},
   "outputs": [
    {
     "data": {
      "text/plain": [
       "1"
      ]
     },
     "execution_count": 124,
     "metadata": {},
     "output_type": "execute_result"
    }
   ],
   "source": [
    "l4.count(\"dd\")"
   ]
  },
  {
   "cell_type": "code",
   "execution_count": 125,
   "id": "96bcdcc1-7917-484e-8de0-64bcd6bccdb2",
   "metadata": {},
   "outputs": [],
   "source": [
    "s=\"vanshika\""
   ]
  },
  {
   "cell_type": "code",
   "execution_count": 126,
   "id": "e0be8d9f-8b17-43ea-9774-5a33d635ab48",
   "metadata": {},
   "outputs": [],
   "source": [
    "l5=[3,4,5,6]"
   ]
  },
  {
   "cell_type": "code",
   "execution_count": 127,
   "id": "511c8541-436f-4b0c-907d-ea90674acc5c",
   "metadata": {},
   "outputs": [
    {
     "ename": "TypeError",
     "evalue": "'str' object does not support item assignment",
     "output_type": "error",
     "traceback": [
      "\u001b[0;31m---------------------------------------------------------------------------\u001b[0m",
      "\u001b[0;31mTypeError\u001b[0m                                 Traceback (most recent call last)",
      "Cell \u001b[0;32mIn[127], line 1\u001b[0m\n\u001b[0;32m----> 1\u001b[0m \u001b[43ms\u001b[49m\u001b[43m[\u001b[49m\u001b[38;5;241;43m0\u001b[39;49m\u001b[43m]\u001b[49m\u001b[38;5;241m=\u001b[39m\u001b[38;5;124m'\u001b[39m\u001b[38;5;124ma\u001b[39m\u001b[38;5;124m'\u001b[39m\n",
      "\u001b[0;31mTypeError\u001b[0m: 'str' object does not support item assignment"
     ]
    }
   ],
   "source": [
    "s[0]='a'"
   ]
  },
  {
   "cell_type": "code",
   "execution_count": 128,
   "id": "7cab53bf-ad6f-4cf1-9df4-4ba37dd02722",
   "metadata": {},
   "outputs": [],
   "source": [
    "l5[0]=30"
   ]
  },
  {
   "cell_type": "code",
   "execution_count": 129,
   "id": "1a0df471-23a6-47ba-9691-e1ea5cb55e18",
   "metadata": {},
   "outputs": [
    {
     "data": {
      "text/plain": [
       "[30, 4, 5, 6]"
      ]
     },
     "execution_count": 129,
     "metadata": {},
     "output_type": "execute_result"
    }
   ],
   "source": [
    "l5\n"
   ]
  },
  {
   "cell_type": "code",
   "execution_count": 130,
   "id": "675488ad-7a34-40f4-9ccb-b213c0bfa2ad",
   "metadata": {},
   "outputs": [
    {
     "data": {
      "text/plain": [
       "'vanshika'"
      ]
     },
     "execution_count": 130,
     "metadata": {},
     "output_type": "execute_result"
    }
   ],
   "source": [
    "s\n"
   ]
  },
  {
   "cell_type": "code",
   "execution_count": 132,
   "id": "d582f000-3d51-49a1-b5b1-9d56e052bb90",
   "metadata": {},
   "outputs": [
    {
     "data": {
      "text/plain": [
       "'aanshika'"
      ]
     },
     "execution_count": 132,
     "metadata": {},
     "output_type": "execute_result"
    }
   ],
   "source": [
    "s.replace('v','a')"
   ]
  },
  {
   "cell_type": "code",
   "execution_count": 133,
   "id": "de331a5c-1d44-40ec-8db9-2c96d2c9ae20",
   "metadata": {},
   "outputs": [
    {
     "data": {
      "text/plain": [
       "'vanshika'"
      ]
     },
     "execution_count": 133,
     "metadata": {},
     "output_type": "execute_result"
    }
   ],
   "source": [
    "s"
   ]
  },
  {
   "cell_type": "code",
   "execution_count": 135,
   "id": "fa50a2a8-62a6-466e-9a2d-a06acd552985",
   "metadata": {},
   "outputs": [],
   "source": [
    "t=(2,3,4,5,\"sudh\",45.56,False,45+45j,[3,4,5])"
   ]
  },
  {
   "cell_type": "code",
   "execution_count": 136,
   "id": "7d953f89-ef57-4cf8-91e3-a32a7192f84c",
   "metadata": {},
   "outputs": [
    {
     "data": {
      "text/plain": [
       "(2, 3, 4, 5, 'sudh', 45.56, False, (45+45j), [3, 4, 5])"
      ]
     },
     "execution_count": 136,
     "metadata": {},
     "output_type": "execute_result"
    }
   ],
   "source": [
    "t"
   ]
  },
  {
   "cell_type": "code",
   "execution_count": 137,
   "id": "17c5b071-49a6-427f-8a1e-f96873c4d7b2",
   "metadata": {},
   "outputs": [
    {
     "data": {
      "text/plain": [
       "tuple"
      ]
     },
     "execution_count": 137,
     "metadata": {},
     "output_type": "execute_result"
    }
   ],
   "source": [
    "type(t)"
   ]
  },
  {
   "cell_type": "code",
   "execution_count": 138,
   "id": "d1489bb7-c32f-42e0-ab51-e4aba53d5717",
   "metadata": {},
   "outputs": [
    {
     "data": {
      "text/plain": [
       "9"
      ]
     },
     "execution_count": 138,
     "metadata": {},
     "output_type": "execute_result"
    }
   ],
   "source": [
    "len(t)"
   ]
  },
  {
   "cell_type": "code",
   "execution_count": 139,
   "id": "c4ff4e58-d7f3-4d46-a393-688b1ac79619",
   "metadata": {},
   "outputs": [
    {
     "data": {
      "text/plain": [
       "2"
      ]
     },
     "execution_count": 139,
     "metadata": {},
     "output_type": "execute_result"
    }
   ],
   "source": [
    "t[0]"
   ]
  },
  {
   "cell_type": "code",
   "execution_count": 140,
   "id": "5cb4859e-f86a-4e4a-ba5f-05cbe71b8280",
   "metadata": {},
   "outputs": [
    {
     "data": {
      "text/plain": [
       "45.56"
      ]
     },
     "execution_count": 140,
     "metadata": {},
     "output_type": "execute_result"
    }
   ],
   "source": [
    "t[-4]"
   ]
  },
  {
   "cell_type": "code",
   "execution_count": 141,
   "id": "f8fc5dca-ca0f-4981-9040-3fe3ac9939a5",
   "metadata": {},
   "outputs": [
    {
     "data": {
      "text/plain": [
       "([3, 4, 5], (45+45j), False, 45.56, 'sudh', 5, 4, 3, 2)"
      ]
     },
     "execution_count": 141,
     "metadata": {},
     "output_type": "execute_result"
    }
   ],
   "source": [
    "t[::-1]"
   ]
  },
  {
   "cell_type": "code",
   "execution_count": 142,
   "id": "0f29f8fc-ff98-4ed3-bae1-71c7e3525f7d",
   "metadata": {},
   "outputs": [],
   "source": [
    "l4[0]=2345"
   ]
  },
  {
   "cell_type": "markdown",
   "id": "5019f635-c1af-42e4-90e2-b9c9fa1d723e",
   "metadata": {},
   "source": [
    "#### "
   ]
  },
  {
   "cell_type": "code",
   "execution_count": 143,
   "id": "f3f50f15-af0c-4228-a2a0-4afb56715857",
   "metadata": {},
   "outputs": [
    {
     "data": {
      "text/plain": [
       "[2345, 'bb', 'cc', 'dd', 'gg']"
      ]
     },
     "execution_count": 143,
     "metadata": {},
     "output_type": "execute_result"
    }
   ],
   "source": [
    "l4"
   ]
  },
  {
   "cell_type": "code",
   "execution_count": 144,
   "id": "7ca02c60-6b86-49b9-8b45-037c9552d718",
   "metadata": {},
   "outputs": [
    {
     "data": {
      "text/plain": [
       "(2, 3, 4, 5, 'sudh', 45.56, False, (45+45j), [3, 4, 5])"
      ]
     },
     "execution_count": 144,
     "metadata": {},
     "output_type": "execute_result"
    }
   ],
   "source": [
    "t"
   ]
  },
  {
   "cell_type": "code",
   "execution_count": 145,
   "id": "87a295a9-7793-4d0b-a4f4-a97056d14af4",
   "metadata": {},
   "outputs": [
    {
     "ename": "TypeError",
     "evalue": "'tuple' object does not support item assignment",
     "output_type": "error",
     "traceback": [
      "\u001b[0;31m---------------------------------------------------------------------------\u001b[0m",
      "\u001b[0;31mTypeError\u001b[0m                                 Traceback (most recent call last)",
      "Cell \u001b[0;32mIn[145], line 1\u001b[0m\n\u001b[0;32m----> 1\u001b[0m \u001b[43mt\u001b[49m\u001b[43m[\u001b[49m\u001b[38;5;241;43m0\u001b[39;49m\u001b[43m]\u001b[49m\u001b[38;5;241m=\u001b[39m\u001b[38;5;124m\"\u001b[39m\u001b[38;5;124msss\u001b[39m\u001b[38;5;124m\"\u001b[39m\n",
      "\u001b[0;31mTypeError\u001b[0m: 'tuple' object does not support item assignment"
     ]
    }
   ],
   "source": [
    "t[0]=\"sss\""
   ]
  },
  {
   "cell_type": "code",
   "execution_count": 146,
   "id": "fdae36e6-2ff3-4de7-af53-107a500e0eae",
   "metadata": {},
   "outputs": [
    {
     "data": {
      "text/plain": [
       "([3, 4, 5], (45+45j), False, 45.56, 'sudh', 5, 4, 3, 2)"
      ]
     },
     "execution_count": 146,
     "metadata": {},
     "output_type": "execute_result"
    }
   ],
   "source": [
    "t[::-1]"
   ]
  },
  {
   "cell_type": "code",
   "execution_count": 149,
   "id": "d21eecb5-d010-4f2b-acb7-d1904ae99ce5",
   "metadata": {},
   "outputs": [
    {
     "data": {
      "text/plain": [
       "1"
      ]
     },
     "execution_count": 149,
     "metadata": {},
     "output_type": "execute_result"
    }
   ],
   "source": [
    "t.count(5)"
   ]
  },
  {
   "cell_type": "code",
   "execution_count": 150,
   "id": "ff78d0cc-de3c-45de-89b6-9442702e78fa",
   "metadata": {},
   "outputs": [
    {
     "data": {
      "text/plain": [
       "6"
      ]
     },
     "execution_count": 150,
     "metadata": {},
     "output_type": "execute_result"
    }
   ],
   "source": [
    "t.index(False)"
   ]
  },
  {
   "cell_type": "code",
   "execution_count": 151,
   "id": "990bdbc0-e0cc-4af7-953e-c10119080739",
   "metadata": {},
   "outputs": [
    {
     "data": {
      "text/plain": [
       "(2, 3, 4, 5, 'sudh', 45.56, False, (45+45j), [3, 4, 5])"
      ]
     },
     "execution_count": 151,
     "metadata": {},
     "output_type": "execute_result"
    }
   ],
   "source": [
    "t"
   ]
  },
  {
   "cell_type": "code",
   "execution_count": 153,
   "id": "f647afb3-a6d1-4f41-bdd2-525d1d3ab245",
   "metadata": {},
   "outputs": [],
   "source": [
    "\n",
    "s1={}"
   ]
  },
  {
   "cell_type": "code",
   "execution_count": 154,
   "id": "7aff0712-ea8a-4abc-8958-4cce1b906f36",
   "metadata": {},
   "outputs": [
    {
     "data": {
      "text/plain": [
       "dict"
      ]
     },
     "execution_count": 154,
     "metadata": {},
     "output_type": "execute_result"
    }
   ],
   "source": [
    "type(s1)"
   ]
  },
  {
   "cell_type": "code",
   "execution_count": 155,
   "id": "e1f93882-ea9a-4bf7-90c9-1ef08fd533bd",
   "metadata": {},
   "outputs": [],
   "source": [
    "s2={2,3,4,55,6}"
   ]
  },
  {
   "cell_type": "code",
   "execution_count": 156,
   "id": "a3f3ed61-8271-4840-95b6-64c0664aaff5",
   "metadata": {},
   "outputs": [
    {
     "data": {
      "text/plain": [
       "set"
      ]
     },
     "execution_count": 156,
     "metadata": {},
     "output_type": "execute_result"
    }
   ],
   "source": [
    "type(s2)"
   ]
  },
  {
   "cell_type": "code",
   "execution_count": 160,
   "id": "78008675-8855-4c7f-b695-f412052dfca3",
   "metadata": {},
   "outputs": [],
   "source": [
    "s3 = {234,444,\"sudh\",45+45j,34,(2,3,4)}"
   ]
  },
  {
   "cell_type": "code",
   "execution_count": 161,
   "id": "933d4d06-7e02-4109-931c-7c12d5da06ae",
   "metadata": {},
   "outputs": [
    {
     "data": {
      "text/plain": [
       "{(2, 3, 4), (45+45j), 234, 34, 444, 'sudh'}"
      ]
     },
     "execution_count": 161,
     "metadata": {},
     "output_type": "execute_result"
    }
   ],
   "source": [
    "s3"
   ]
  },
  {
   "cell_type": "code",
   "execution_count": 165,
   "id": "74c729f6-b261-4ab5-a61f-e5b4bc996acd",
   "metadata": {},
   "outputs": [],
   "source": [
    "s4={2,3,4,4,4,4,4,5,5,7,8,9,2,9,0,9,5}"
   ]
  },
  {
   "cell_type": "code",
   "execution_count": 164,
   "id": "9287f810-861f-4d11-aef9-b4676f1be50e",
   "metadata": {},
   "outputs": [
    {
     "data": {
      "text/plain": [
       "{0, 2, 3, 4, 5, 7, 8, 9}"
      ]
     },
     "execution_count": 164,
     "metadata": {},
     "output_type": "execute_result"
    }
   ],
   "source": [
    "s4"
   ]
  },
  {
   "cell_type": "code",
   "execution_count": 169,
   "id": "338195fe-bf75-40b6-923b-f64b739cdf78",
   "metadata": {},
   "outputs": [],
   "source": [
    "s5={2,3,4,4,4,4,4,5,5,7,8,9,2,9,0,9,5,\"sud\",\"wefd\"}"
   ]
  },
  {
   "cell_type": "code",
   "execution_count": 170,
   "id": "088bde88-ee1b-4168-87f6-db2edc354eb0",
   "metadata": {},
   "outputs": [
    {
     "data": {
      "text/plain": [
       "{0, 2, 3, 4, 5, 7, 8, 9, 'sud', 'wefd'}"
      ]
     },
     "execution_count": 170,
     "metadata": {},
     "output_type": "execute_result"
    }
   ],
   "source": [
    "s4"
   ]
  },
  {
   "cell_type": "code",
   "execution_count": 172,
   "id": "242121e3-1ec9-4d35-a3cc-bebf55901df9",
   "metadata": {},
   "outputs": [
    {
     "data": {
      "text/plain": [
       "{0, 2, 3, 4, 5, 7, 8, 9, 'sud', 'wefd'}"
      ]
     },
     "execution_count": 172,
     "metadata": {},
     "output_type": "execute_result"
    }
   ],
   "source": [
    "set(s5)"
   ]
  },
  {
   "cell_type": "code",
   "execution_count": 177,
   "id": "9b778303-d9eb-472e-a94f-a9ac2a75b1a0",
   "metadata": {},
   "outputs": [],
   "source": [
    "l6={2,3,4,4,4,4,4,5,5,7,8,9,2,9,0,9,\"ser\",\"wer\",5}"
   ]
  },
  {
   "cell_type": "code",
   "execution_count": 178,
   "id": "8df7428a-d33d-400f-8620-e023d9ee7d20",
   "metadata": {},
   "outputs": [
    {
     "data": {
      "text/plain": [
       "{0, 2, 3, 4, 5, 7, 8, 9, 'ser', 'wer'}"
      ]
     },
     "execution_count": 178,
     "metadata": {},
     "output_type": "execute_result"
    }
   ],
   "source": [
    "l6"
   ]
  },
  {
   "cell_type": "code",
   "execution_count": 179,
   "id": "08b6a621-02a8-4eea-a127-83494336fb2f",
   "metadata": {},
   "outputs": [],
   "source": [
    "l6=list(set(l6))"
   ]
  },
  {
   "cell_type": "code",
   "execution_count": 180,
   "id": "ca00154c-d5e2-4269-a40f-db978dd9d8ff",
   "metadata": {},
   "outputs": [
    {
     "data": {
      "text/plain": [
       "[0, 'ser', 2, 3, 4, 5, 7, 8, 9, 'wer']"
      ]
     },
     "execution_count": 180,
     "metadata": {},
     "output_type": "execute_result"
    }
   ],
   "source": [
    "l6"
   ]
  },
  {
   "cell_type": "code",
   "execution_count": 183,
   "id": "82f9f886-18ba-4514-af5d-3d921f9cfd79",
   "metadata": {},
   "outputs": [
    {
     "ename": "TypeError",
     "evalue": "'set' object is not subscriptable",
     "output_type": "error",
     "traceback": [
      "\u001b[0;31m---------------------------------------------------------------------------\u001b[0m",
      "\u001b[0;31mTypeError\u001b[0m                                 Traceback (most recent call last)",
      "Cell \u001b[0;32mIn[183], line 1\u001b[0m\n\u001b[0;32m----> 1\u001b[0m \u001b[43ms5\u001b[49m\u001b[43m[\u001b[49m\u001b[43m:\u001b[49m\u001b[43m:\u001b[49m\u001b[38;5;241;43m-\u001b[39;49m\u001b[38;5;241;43m1\u001b[39;49m\u001b[43m]\u001b[49m\n",
      "\u001b[0;31mTypeError\u001b[0m: 'set' object is not subscriptable"
     ]
    }
   ],
   "source": [
    "s5[::-1]"
   ]
  },
  {
   "cell_type": "code",
   "execution_count": 184,
   "id": "d007cf0f-c193-4500-972c-b99efb4daff2",
   "metadata": {},
   "outputs": [],
   "source": [
    "s5.add(4)"
   ]
  },
  {
   "cell_type": "code",
   "execution_count": 187,
   "id": "d8df0f28-c332-4b1c-ade6-8ebe5bb83c0d",
   "metadata": {},
   "outputs": [
    {
     "data": {
      "text/plain": [
       "{0, 2, 3, 4, 5, 7, 8, 9, 'sud', 'wefd'}"
      ]
     },
     "execution_count": 187,
     "metadata": {},
     "output_type": "execute_result"
    }
   ],
   "source": [
    "s5"
   ]
  },
  {
   "cell_type": "code",
   "execution_count": 188,
   "id": "c0444132-ab5b-4fdd-bf8a-7a80980e3fac",
   "metadata": {},
   "outputs": [],
   "source": [
    "s5.remove(7)"
   ]
  },
  {
   "cell_type": "code",
   "execution_count": 189,
   "id": "3566c33a-beb6-41e1-ad33-b879fa31db59",
   "metadata": {},
   "outputs": [
    {
     "data": {
      "text/plain": [
       "{0, 2, 3, 4, 5, 8, 9, 'sud', 'wefd'}"
      ]
     },
     "execution_count": 189,
     "metadata": {},
     "output_type": "execute_result"
    }
   ],
   "source": [
    "s5"
   ]
  },
  {
   "cell_type": "code",
   "execution_count": null,
   "id": "caa098dc-4092-4618-aeeb-2a9e7cf9f2b1",
   "metadata": {},
   "outputs": [],
   "source": []
  },
  {
   "cell_type": "code",
   "execution_count": null,
   "id": "9755131b-f367-48c4-b273-8faf874f1bd8",
   "metadata": {},
   "outputs": [],
   "source": []
  },
  {
   "cell_type": "code",
   "execution_count": null,
   "id": "8b89457d-913b-4d84-a906-ac2fef8552fd",
   "metadata": {},
   "outputs": [],
   "source": []
  },
  {
   "cell_type": "code",
   "execution_count": null,
   "id": "aef1b252-e48a-4dad-8575-9d78506b38c0",
   "metadata": {},
   "outputs": [],
   "source": []
  },
  {
   "cell_type": "code",
   "execution_count": null,
   "id": "edd69b6d-1ae2-42e7-8c06-111a4c50d90d",
   "metadata": {},
   "outputs": [],
   "source": []
  },
  {
   "cell_type": "code",
   "execution_count": null,
   "id": "dd975d7a-6f2d-493d-8c4b-af6f79ddfb51",
   "metadata": {},
   "outputs": [],
   "source": []
  },
  {
   "cell_type": "code",
   "execution_count": null,
   "id": "c5ab499f-11ae-4317-b1ed-e58e4d354d9f",
   "metadata": {},
   "outputs": [],
   "source": []
  },
  {
   "cell_type": "code",
   "execution_count": null,
   "id": "65183506-c821-4569-a206-c95fddff96cd",
   "metadata": {},
   "outputs": [],
   "source": []
  },
  {
   "cell_type": "code",
   "execution_count": null,
   "id": "711b206b-aa1d-465d-b3b7-e7e4e60b8b6f",
   "metadata": {},
   "outputs": [],
   "source": []
  },
  {
   "cell_type": "code",
   "execution_count": null,
   "id": "0e20c1a2-9f22-4e7e-b410-6cfcd198271a",
   "metadata": {},
   "outputs": [],
   "source": []
  },
  {
   "cell_type": "code",
   "execution_count": null,
   "id": "34590f27-1617-4e3f-9c2b-75e06ae02a8c",
   "metadata": {},
   "outputs": [],
   "source": []
  },
  {
   "cell_type": "code",
   "execution_count": null,
   "id": "15557793-3d65-4346-b367-b63adcae0544",
   "metadata": {},
   "outputs": [],
   "source": []
  },
  {
   "cell_type": "code",
   "execution_count": null,
   "id": "383e9baf-364b-4887-a642-24a7bce0cb7e",
   "metadata": {},
   "outputs": [],
   "source": []
  },
  {
   "cell_type": "code",
   "execution_count": null,
   "id": "da9aa454-344d-4c76-873a-ff0af3e2007e",
   "metadata": {},
   "outputs": [],
   "source": []
  },
  {
   "cell_type": "code",
   "execution_count": null,
   "id": "9e9db66e-ee78-4e92-8911-e9c91432c8ca",
   "metadata": {},
   "outputs": [],
   "source": []
  },
  {
   "cell_type": "code",
   "execution_count": null,
   "id": "85f1cf81-3abb-4dee-939a-6465d69b6b87",
   "metadata": {},
   "outputs": [],
   "source": []
  },
  {
   "cell_type": "code",
   "execution_count": null,
   "id": "60a46c4f-c877-4b68-b51b-908c249bdb22",
   "metadata": {},
   "outputs": [],
   "source": []
  },
  {
   "cell_type": "code",
   "execution_count": null,
   "id": "26afc9da-e921-4b96-afbe-4ab3c4745fb6",
   "metadata": {},
   "outputs": [],
   "source": []
  },
  {
   "cell_type": "code",
   "execution_count": null,
   "id": "b9a53c75-b0d5-4471-9b65-c711fe12f318",
   "metadata": {},
   "outputs": [],
   "source": []
  },
  {
   "cell_type": "code",
   "execution_count": null,
   "id": "bd849170-8ba8-48c9-9949-8699cc1d3732",
   "metadata": {},
   "outputs": [],
   "source": []
  },
  {
   "cell_type": "code",
   "execution_count": null,
   "id": "33d4cb68-0472-47af-a4f8-dbee23670fa6",
   "metadata": {},
   "outputs": [],
   "source": []
  },
  {
   "cell_type": "code",
   "execution_count": null,
   "id": "00fe46ea-c9d9-4338-9d0d-f6640091194b",
   "metadata": {},
   "outputs": [],
   "source": []
  },
  {
   "cell_type": "code",
   "execution_count": null,
   "id": "7a181c21-efa8-4b37-8c7a-b017ff3e3d4b",
   "metadata": {},
   "outputs": [],
   "source": []
  },
  {
   "cell_type": "code",
   "execution_count": null,
   "id": "5188ad9f-fe1d-456f-801a-968730fd7c33",
   "metadata": {},
   "outputs": [],
   "source": []
  },
  {
   "cell_type": "code",
   "execution_count": null,
   "id": "fe8f4d1d-1896-4ed4-909d-0467199e3cab",
   "metadata": {},
   "outputs": [],
   "source": []
  },
  {
   "cell_type": "code",
   "execution_count": null,
   "id": "9c261b51-a8ac-45b4-b253-89b85c9ff436",
   "metadata": {},
   "outputs": [],
   "source": []
  },
  {
   "cell_type": "code",
   "execution_count": null,
   "id": "160c34a1-3ab7-43ca-a941-79560e0eb49d",
   "metadata": {},
   "outputs": [],
   "source": []
  },
  {
   "cell_type": "code",
   "execution_count": null,
   "id": "3940b59a-70b8-4c09-9429-8d9c2383e0b4",
   "metadata": {},
   "outputs": [],
   "source": []
  },
  {
   "cell_type": "code",
   "execution_count": null,
   "id": "30ac51ca-6dde-4311-9dfb-7f3640c4b0f1",
   "metadata": {},
   "outputs": [],
   "source": []
  },
  {
   "cell_type": "code",
   "execution_count": null,
   "id": "f37f0aa7-ec17-4607-b987-6908057e6dec",
   "metadata": {},
   "outputs": [],
   "source": []
  },
  {
   "cell_type": "code",
   "execution_count": null,
   "id": "554ee14a-cf69-44a0-90b6-109e04f89026",
   "metadata": {},
   "outputs": [],
   "source": []
  },
  {
   "cell_type": "code",
   "execution_count": null,
   "id": "3acd08c6-318b-4f22-8f41-d341fbeb05e0",
   "metadata": {},
   "outputs": [],
   "source": []
  },
  {
   "cell_type": "code",
   "execution_count": null,
   "id": "4c2c3e3c-8e85-4ebe-a1f2-dcd39420a660",
   "metadata": {},
   "outputs": [],
   "source": []
  },
  {
   "cell_type": "code",
   "execution_count": null,
   "id": "abb990fc-d3fc-42f0-bbd3-02dc4b320423",
   "metadata": {},
   "outputs": [],
   "source": []
  },
  {
   "cell_type": "code",
   "execution_count": null,
   "id": "bde5509f-ccd7-40f4-b327-aa3bdf0a5160",
   "metadata": {},
   "outputs": [],
   "source": []
  },
  {
   "cell_type": "code",
   "execution_count": null,
   "id": "76ff2634-8646-444b-a161-5563cad4f1d0",
   "metadata": {},
   "outputs": [],
   "source": []
  },
  {
   "cell_type": "code",
   "execution_count": null,
   "id": "0b0546a6-4e30-4a5e-9e02-0171adf691d0",
   "metadata": {},
   "outputs": [],
   "source": []
  },
  {
   "cell_type": "code",
   "execution_count": null,
   "id": "8444be6a-88c9-4414-a0a9-8902a2573a05",
   "metadata": {},
   "outputs": [],
   "source": []
  },
  {
   "cell_type": "code",
   "execution_count": null,
   "id": "1ddb53fb-4d22-4f3f-b70d-41197ea60772",
   "metadata": {},
   "outputs": [],
   "source": []
  },
  {
   "cell_type": "code",
   "execution_count": null,
   "id": "39696e45-de72-4768-85b4-b4c4011c6720",
   "metadata": {},
   "outputs": [],
   "source": []
  },
  {
   "cell_type": "code",
   "execution_count": null,
   "id": "6797fc72-3b0d-46fe-b229-38620c3e3135",
   "metadata": {},
   "outputs": [],
   "source": []
  },
  {
   "cell_type": "code",
   "execution_count": null,
   "id": "3402dfae-7dc8-4d66-8bc5-aa624f167454",
   "metadata": {},
   "outputs": [],
   "source": []
  },
  {
   "cell_type": "code",
   "execution_count": null,
   "id": "6ae4e5bf-873d-4cb7-a340-9eaf80a3d388",
   "metadata": {},
   "outputs": [],
   "source": []
  },
  {
   "cell_type": "code",
   "execution_count": null,
   "id": "83e75217-58a9-42cc-a896-863702e1f4ff",
   "metadata": {},
   "outputs": [],
   "source": []
  },
  {
   "cell_type": "code",
   "execution_count": null,
   "id": "64edfcc8-7da1-40f8-8fc8-d5ad176f7200",
   "metadata": {},
   "outputs": [],
   "source": []
  },
  {
   "cell_type": "code",
   "execution_count": null,
   "id": "761c2bdd-5cbf-4532-ade6-a32267a0f259",
   "metadata": {},
   "outputs": [],
   "source": []
  },
  {
   "cell_type": "code",
   "execution_count": null,
   "id": "b38e7ab1-febe-4213-9a0a-f0568abd6b4d",
   "metadata": {},
   "outputs": [],
   "source": []
  },
  {
   "cell_type": "code",
   "execution_count": null,
   "id": "5cd84b9c-1417-4f59-9b9a-1cc2583483b0",
   "metadata": {},
   "outputs": [],
   "source": []
  },
  {
   "cell_type": "code",
   "execution_count": null,
   "id": "4668607e-35f5-429a-9e81-ecac7449921f",
   "metadata": {},
   "outputs": [],
   "source": []
  },
  {
   "cell_type": "code",
   "execution_count": null,
   "id": "b6583691-c676-44cf-b315-5a80ba92219c",
   "metadata": {},
   "outputs": [],
   "source": []
  },
  {
   "cell_type": "code",
   "execution_count": null,
   "id": "d482f8b6-5a4a-499a-babe-dd886647533d",
   "metadata": {},
   "outputs": [],
   "source": []
  },
  {
   "cell_type": "code",
   "execution_count": null,
   "id": "744677d8-f3c7-4166-b3b8-882658b915e6",
   "metadata": {},
   "outputs": [],
   "source": []
  },
  {
   "cell_type": "code",
   "execution_count": null,
   "id": "a487aa69-a8a8-4185-82a7-dc717c74c2db",
   "metadata": {},
   "outputs": [],
   "source": []
  },
  {
   "cell_type": "code",
   "execution_count": null,
   "id": "92e11850-26d2-4771-8793-790e7f0ccdf2",
   "metadata": {},
   "outputs": [],
   "source": []
  },
  {
   "cell_type": "code",
   "execution_count": null,
   "id": "ffa436d4-3ad2-4d8a-98a9-b1ff39fc5455",
   "metadata": {},
   "outputs": [],
   "source": []
  },
  {
   "cell_type": "code",
   "execution_count": null,
   "id": "9ad3bad1-348c-417a-8788-1ba2245094bd",
   "metadata": {},
   "outputs": [],
   "source": []
  },
  {
   "cell_type": "code",
   "execution_count": null,
   "id": "c70152d0-bb0d-4242-a193-2220634caeb8",
   "metadata": {},
   "outputs": [],
   "source": []
  },
  {
   "cell_type": "code",
   "execution_count": null,
   "id": "513534c3-f733-44cd-86b9-246f58aa505b",
   "metadata": {},
   "outputs": [],
   "source": []
  },
  {
   "cell_type": "code",
   "execution_count": null,
   "id": "cbcc17f4-6e16-4de9-80a9-934b093f2366",
   "metadata": {},
   "outputs": [],
   "source": []
  },
  {
   "cell_type": "code",
   "execution_count": null,
   "id": "4be1250d-257b-45e2-8a05-ba7b0765bcd0",
   "metadata": {},
   "outputs": [],
   "source": []
  },
  {
   "cell_type": "code",
   "execution_count": null,
   "id": "ac3b3e72-55a4-4996-8ae7-0518ce13327d",
   "metadata": {},
   "outputs": [],
   "source": []
  },
  {
   "cell_type": "code",
   "execution_count": null,
   "id": "a3c8322d-43ae-4ddf-8536-749be2e16dc3",
   "metadata": {},
   "outputs": [],
   "source": []
  },
  {
   "cell_type": "code",
   "execution_count": null,
   "id": "fb7fbae1-5002-4223-950c-22cb7c0da13d",
   "metadata": {},
   "outputs": [],
   "source": []
  },
  {
   "cell_type": "code",
   "execution_count": null,
   "id": "3471af2b-ee37-4091-92b0-b86247390666",
   "metadata": {},
   "outputs": [],
   "source": []
  },
  {
   "cell_type": "code",
   "execution_count": null,
   "id": "301b8469-470c-4055-a3a7-6e3f9f780f60",
   "metadata": {},
   "outputs": [],
   "source": []
  },
  {
   "cell_type": "code",
   "execution_count": null,
   "id": "22fc66a6-b716-49d9-9715-82d06e97cb18",
   "metadata": {},
   "outputs": [],
   "source": []
  },
  {
   "cell_type": "code",
   "execution_count": null,
   "id": "49d46822-9be4-4918-8dbd-13d0d3aa4dd2",
   "metadata": {},
   "outputs": [],
   "source": []
  },
  {
   "cell_type": "code",
   "execution_count": null,
   "id": "ebf02bfb-0c6f-4862-8674-3d2fcea0e932",
   "metadata": {},
   "outputs": [],
   "source": []
  },
  {
   "cell_type": "code",
   "execution_count": null,
   "id": "eb90b592-7eaf-43bc-8962-5f65836b3333",
   "metadata": {},
   "outputs": [],
   "source": []
  },
  {
   "cell_type": "code",
   "execution_count": null,
   "id": "dd156a7f-f8c3-4687-8e76-4899af4e3c15",
   "metadata": {},
   "outputs": [],
   "source": []
  },
  {
   "cell_type": "code",
   "execution_count": null,
   "id": "94c03a32-88a6-4112-b0cc-26ea4e05b3cc",
   "metadata": {},
   "outputs": [],
   "source": []
  },
  {
   "cell_type": "code",
   "execution_count": null,
   "id": "0e659362-96c8-4d85-b05f-762f384fbdfb",
   "metadata": {},
   "outputs": [],
   "source": []
  },
  {
   "cell_type": "code",
   "execution_count": null,
   "id": "d44bd7cb-2481-4571-8356-bb1711a184eb",
   "metadata": {},
   "outputs": [],
   "source": []
  },
  {
   "cell_type": "code",
   "execution_count": null,
   "id": "ec2da9dc-7e3d-4e54-ac6e-cbcfbbe36c50",
   "metadata": {},
   "outputs": [],
   "source": []
  },
  {
   "cell_type": "code",
   "execution_count": null,
   "id": "3e0bbd2c-732e-41e1-81c9-4e65ff56bcf5",
   "metadata": {},
   "outputs": [],
   "source": []
  },
  {
   "cell_type": "code",
   "execution_count": null,
   "id": "f7e6d6e1-608b-489e-88fb-0c28dabe2e70",
   "metadata": {},
   "outputs": [],
   "source": []
  },
  {
   "cell_type": "code",
   "execution_count": null,
   "id": "de20cb74-ed87-46ec-b918-f753725608b1",
   "metadata": {},
   "outputs": [],
   "source": []
  },
  {
   "cell_type": "code",
   "execution_count": null,
   "id": "a27dd8da-e2c2-4829-a53a-f8561559085f",
   "metadata": {},
   "outputs": [],
   "source": []
  },
  {
   "cell_type": "code",
   "execution_count": null,
   "id": "f227641d-acaa-49cd-abdf-3d598f066841",
   "metadata": {},
   "outputs": [],
   "source": []
  },
  {
   "cell_type": "code",
   "execution_count": null,
   "id": "0d57b97b-bc92-4d5d-b9e4-40cb05895f8b",
   "metadata": {},
   "outputs": [],
   "source": []
  },
  {
   "cell_type": "code",
   "execution_count": null,
   "id": "912d4b8f-3af6-4a4f-817b-87093f89644e",
   "metadata": {},
   "outputs": [],
   "source": []
  },
  {
   "cell_type": "code",
   "execution_count": null,
   "id": "71d16388-34d0-42f7-b772-b217bc49a490",
   "metadata": {},
   "outputs": [],
   "source": []
  }
 ],
 "metadata": {
  "kernelspec": {
   "display_name": "Python 3 (ipykernel)",
   "language": "python",
   "name": "python3"
  },
  "language_info": {
   "codemirror_mode": {
    "name": "ipython",
    "version": 3
   },
   "file_extension": ".py",
   "mimetype": "text/x-python",
   "name": "python",
   "nbconvert_exporter": "python",
   "pygments_lexer": "ipython3",
   "version": "3.10.8"
  }
 },
 "nbformat": 4,
 "nbformat_minor": 5
}
